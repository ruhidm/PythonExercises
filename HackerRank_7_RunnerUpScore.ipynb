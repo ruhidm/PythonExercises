{
  "nbformat": 4,
  "nbformat_minor": 0,
  "metadata": {
    "colab": {
      "name": "HackerRank_7_RunnerUpScore.ipynb",
      "provenance": [],
      "authorship_tag": "ABX9TyMj3Ho3d2yFqLa8LdY/+SdM",
      "include_colab_link": true
    },
    "kernelspec": {
      "name": "python3",
      "display_name": "Python 3"
    },
    "language_info": {
      "name": "python"
    }
  },
  "cells": [
    {
      "cell_type": "markdown",
      "metadata": {
        "id": "view-in-github",
        "colab_type": "text"
      },
      "source": [
        "<a href=\"https://colab.research.google.com/github/ruhidm/PythonExercises/blob/main/HackerRank_7_RunnerUpScore.ipynb\" target=\"_parent\"><img src=\"https://colab.research.google.com/assets/colab-badge.svg\" alt=\"Open In Colab\"/></a>"
      ]
    },
    {
      "cell_type": "markdown",
      "metadata": {
        "id": "6TtEkDmEwQTC"
      },
      "source": [
        "Given the participants' score sheet for your University Sports Day, you are required to find the runner-up score. You are given n scores. Store them in a list and find the score of the runner-up.\n",
        "Input Format\n",
        "\n",
        "The first line contains . The second line contains an array A[] of n  integers each separated by a space.\n",
        "\n",
        "Constraints\n",
        "2 <= n <= 10\n",
        "\n",
        "For example:\n",
        "[3,3,4,5,6,5.5]\n"
      ]
    },
    {
      "cell_type": "code",
      "metadata": {
        "colab": {
          "base_uri": "https://localhost:8080/"
        },
        "id": "ifD7otv4s1At",
        "outputId": "3c517256-a0e0-4f8a-d586-4b8399a82270"
      },
      "source": [
        "n = int(input())\n",
        "arr = list(set(map(int, input().split())))\n",
        "arr.sort()\n",
        "print(arr[-2])\n"
      ],
      "execution_count": 1,
      "outputs": [
        {
          "output_type": "stream",
          "name": "stdout",
          "text": [
            "5\n",
            "1 2 3 4 6\n",
            "4\n"
          ]
        }
      ]
    }
  ]
}