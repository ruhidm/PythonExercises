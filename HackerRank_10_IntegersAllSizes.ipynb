{
  "nbformat": 4,
  "nbformat_minor": 0,
  "metadata": {
    "colab": {
      "name": "HackerRank_10_IntegersAllSizes.ipynb",
      "provenance": [],
      "authorship_tag": "ABX9TyOjDqY+SC6Q80xqQCczyDrI",
      "include_colab_link": true
    },
    "kernelspec": {
      "name": "python3",
      "display_name": "Python 3"
    },
    "language_info": {
      "name": "python"
    }
  },
  "cells": [
    {
      "cell_type": "markdown",
      "metadata": {
        "id": "view-in-github",
        "colab_type": "text"
      },
      "source": [
        "<a href=\"https://colab.research.google.com/github/ruhidm/PythonExercises/blob/main/HackerRank_10_IntegersAllSizes.ipynb\" target=\"_parent\"><img src=\"https://colab.research.google.com/assets/colab-badge.svg\" alt=\"Open In Colab\"/></a>"
      ]
    },
    {
      "cell_type": "code",
      "metadata": {
        "colab": {
          "base_uri": "https://localhost:8080/"
        },
        "id": "LcVTa4aOpH5i",
        "outputId": "3253b372-ea1c-4e79-fd24-13d1580502b6"
      },
      "source": [
        "# Read 4 integers a, b, c and d and print a**b + c ** d. \n",
        "a = int(input())\n",
        "b = int(input())\n",
        "c = int(input())\n",
        "d = int(input())\n",
        "\n",
        "summ = a ** b + c ** d\n",
        "print(summ)\n"
      ],
      "execution_count": 2,
      "outputs": [
        {
          "output_type": "stream",
          "name": "stdout",
          "text": [
            "9\n",
            "29\n",
            "7\n",
            "27\n",
            "4710194409608608369201743232\n"
          ]
        }
      ]
    },
    {
      "cell_type": "code",
      "metadata": {
        "id": "RYalJcLZphsK"
      },
      "source": [
        ""
      ],
      "execution_count": null,
      "outputs": []
    }
  ]
}