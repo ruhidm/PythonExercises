{
  "nbformat": 4,
  "nbformat_minor": 0,
  "metadata": {
    "colab": {
      "name": "HackerRank_8_NestedList.ipynb",
      "provenance": [],
      "authorship_tag": "ABX9TyM3F8IQv7J1UgVsoCm5A2oV",
      "include_colab_link": true
    },
    "kernelspec": {
      "name": "python3",
      "display_name": "Python 3"
    },
    "language_info": {
      "name": "python"
    }
  },
  "cells": [
    {
      "cell_type": "markdown",
      "metadata": {
        "id": "view-in-github",
        "colab_type": "text"
      },
      "source": [
        "<a href=\"https://colab.research.google.com/github/ruhidm/PythonExercises/blob/main/HackerRank_8_NestedList.ipynb\" target=\"_parent\"><img src=\"https://colab.research.google.com/assets/colab-badge.svg\" alt=\"Open In Colab\"/></a>"
      ]
    },
    {
      "cell_type": "code",
      "metadata": {
        "id": "_a83unhjR0cd"
      },
      "source": [
        "# Nested List - means list is consist of lists.\n",
        "# Given the names and grades for each student in a class of N students, store them in a nested list and print the name(s) of any student(s) \n",
        "# having the second lowest grade.\n",
        "# Note:If there are multiple students with the second lowest grade, order their names alphabetically and print each name on a new line.\n",
        "# Input Frormat:\n",
        "# list = [[Harry, 24.32], [Mika, 24.32], [Lima, 25.34], [Kyler, 20.12]]\n",
        "# Output will be:\n",
        "#   Lima\n",
        "#   Mika\n",
        "# Print the name(s) of any student(s) having the second lowest grade in. If there are multiple students, order their names alphabetically and \n",
        "# print each one on a new line.\n",
        "\n",
        "lista = []\n",
        "for i in range(int(input())):\n",
        "        name = input()\n",
        "        score = float(input())\n",
        "        lista.append([name, score])\n",
        "second = sorted(list(set(x[1] for x in lista)))[1]\n",
        "print(\"\\n\".join(sorted([i[0] for i in lista if i[1] == second])))\n"
      ],
      "execution_count": null,
      "outputs": []
    }
  ]
}