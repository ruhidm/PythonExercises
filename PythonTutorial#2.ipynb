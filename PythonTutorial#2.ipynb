{
 "cells": [
  {
   "cell_type": "markdown",
   "metadata": {},
   "source": [
    "# If Else Statement"
   ]
  },
  {
   "cell_type": "markdown",
   "metadata": {},
   "source": [
    "## `if` clause"
   ]
  },
  {
   "cell_type": "code",
   "execution_count": 2,
   "metadata": {},
   "outputs": [
    {
     "name": "stdout",
     "output_type": "stream",
     "text": [
      "a is less than b\n",
      "a is definitely less than b\n",
      "This print is not related to if clause\n"
     ]
    }
   ],
   "source": [
    "a = 1 \n",
    "b = 2\n",
    "if a < b: # colon(:) sign is very important\n",
    "    print('a is less than b') # you need to put 4 spaces or tab\n",
    "    print('a is definitely less than b') #  4 spaces give Python instruction that this print function also\n",
    "                                         # related to if clause.\n",
    "print('This print is not related to if clause')"
   ]
  },
  {
   "cell_type": "code",
   "execution_count": 3,
   "metadata": {},
   "outputs": [
    {
     "name": "stdout",
     "output_type": "stream",
     "text": [
      "It only print this, because this is not related to if clause\n"
     ]
    }
   ],
   "source": [
    "a1 = 2\n",
    "b1 = 1\n",
    "if a1 < b1:\n",
    "    print('It will print nothing')\n",
    "print('It only print this, because this is not related to if clause')"
   ]
  },
  {
   "cell_type": "markdown",
   "metadata": {},
   "source": [
    "## `if` and `else` statements"
   ]
  },
  {
   "cell_type": "code",
   "execution_count": 4,
   "metadata": {},
   "outputs": [
    {
     "name": "stdout",
     "output_type": "stream",
     "text": [
      "c is not less than d\n"
     ]
    }
   ],
   "source": [
    "c = 4\n",
    "d = 3\n",
    "if c < d:\n",
    "    print('c is less than d')\n",
    "else:\n",
    "    print('c is not less than d') # colon must as in 'if' statement and 4 or tab space."
   ]
  },
  {
   "cell_type": "markdown",
   "metadata": {},
   "source": [
    "## `if`, `elif` and `else`"
   ]
  },
  {
   "cell_type": "code",
   "execution_count": 5,
   "metadata": {},
   "outputs": [
    {
     "name": "stdout",
     "output_type": "stream",
     "text": [
      "e is less than f\n"
     ]
    }
   ],
   "source": [
    "e = 5\n",
    "f = 7\n",
    "if e < f:\n",
    "    print('e is less than f')\n",
    "elif e == f:\n",
    "    print('e is equal f')\n",
    "else:\n",
    "    print('e es greater than f')\n",
    "# Note that = means assigning, but == means equal in many programming languages"
   ]
  },
  {
   "cell_type": "markdown",
   "metadata": {},
   "source": [
    "## `Else` clause with including `if` statement"
   ]
  },
  {
   "cell_type": "code",
   "execution_count": 6,
   "metadata": {},
   "outputs": [
    {
     "name": "stdout",
     "output_type": "stream",
     "text": [
      "g is equal to h\n"
     ]
    }
   ],
   "source": [
    "# If you do not want to use elif statement\n",
    "g = 7\n",
    "h = 7\n",
    "if g < h:\n",
    "    print('g is less than h')\n",
    "else:\n",
    "    if g == h:\n",
    "        print('g is equal to h')\n",
    "    else:\n",
    "        print('g is greater than h') # 8 spaces"
   ]
  }
 ],
 "metadata": {
  "kernelspec": {
   "display_name": "Python 3",
   "language": "python",
   "name": "python3"
  },
  "language_info": {
   "codemirror_mode": {
    "name": "ipython",
    "version": 3
   },
   "file_extension": ".py",
   "mimetype": "text/x-python",
   "name": "python",
   "nbconvert_exporter": "python",
   "pygments_lexer": "ipython3",
   "version": "3.7.6"
  }
 },
 "nbformat": 4,
 "nbformat_minor": 4
}
