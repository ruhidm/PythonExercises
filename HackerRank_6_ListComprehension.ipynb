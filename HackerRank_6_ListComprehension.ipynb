{
  "nbformat": 4,
  "nbformat_minor": 0,
  "metadata": {
    "colab": {
      "name": "HackerRank_6_ListComprehension",
      "provenance": [],
      "collapsed_sections": [],
      "authorship_tag": "ABX9TyMklxGXkr5RDkFGh/zOm+mu",
      "include_colab_link": true
    },
    "kernelspec": {
      "name": "python3",
      "display_name": "Python 3"
    },
    "language_info": {
      "name": "python"
    }
  },
  "cells": [
    {
      "cell_type": "markdown",
      "metadata": {
        "id": "view-in-github",
        "colab_type": "text"
      },
      "source": [
        "<a href=\"https://colab.research.google.com/github/ruhidm/PythonExercises/blob/main/HackerRank_6_ListComprehension.ipynb\" target=\"_parent\"><img src=\"https://colab.research.google.com/assets/colab-badge.svg\" alt=\"Open In Colab\"/></a>"
      ]
    },
    {
      "cell_type": "markdown",
      "metadata": {
        "id": "JFVr6MZehhs2"
      },
      "source": [
        " You are given three integers x, y  and z representing the dimensions of a cuboid along with an integer n. Print a list of all possible coordinates given by (i,j,k) on a 3D grid where the sum of i+j+k is not equal to n. Please use list comprehensions rather than multiple loops, as a learning exercise. \n",
        " Example:\n",
        " x = 1\n",
        " y = 1\n",
        " z = 2\n",
        " n = 3\n",
        "\n",
        " Permutation of i, j, k are:\n",
        " [0,0,0], [0,0,1], ... , [1,1,2]\n",
        "\n",
        "Input:\n",
        "1\n",
        "1\n",
        "1\n",
        "2\n",
        "\n",
        "Output:\n",
        "[0,0,0] [0,0,1] [0,1,0] [0,1,1] [1,1,0] [1,1,1]\n"
      ]
    },
    {
      "cell_type": "code",
      "metadata": {
        "colab": {
          "base_uri": "https://localhost:8080/"
        },
        "id": "dPQKvgk9rbK6",
        "outputId": "b48f40ca-13bb-47b2-bf14-79e07cee3a6e"
      },
      "source": [
        "x = int(input())\n",
        "y = int(input())\n",
        "z = int(input())\n",
        "n = int(input())\n",
        "ListIJK = []\n",
        "for i in range(x+1):\n",
        "    for j in range(y+1):\n",
        "        for k in range(z+1):\n",
        "            if i+j+k != n:\n",
        "                ListIJK.append([i,j,k])\n",
        "print(ListIJK)"
      ],
      "execution_count": 2,
      "outputs": [
        {
          "output_type": "stream",
          "name": "stdout",
          "text": [
            "1\n",
            "1\n",
            "2\n",
            "2\n",
            "[[0, 0, 0], [0, 0, 1], [0, 1, 0], [0, 1, 2], [1, 0, 0], [1, 0, 2], [1, 1, 1], [1, 1, 2]]\n"
          ]
        }
      ]
    }
  ]
}