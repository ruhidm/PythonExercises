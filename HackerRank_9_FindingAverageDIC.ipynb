{
  "nbformat": 4,
  "nbformat_minor": 0,
  "metadata": {
    "colab": {
      "name": "HackerRank_9_FindingAverageDIC.ipynb",
      "provenance": [],
      "collapsed_sections": [],
      "authorship_tag": "ABX9TyPUPamuI53HaSxXbv06Avfk",
      "include_colab_link": true
    },
    "kernelspec": {
      "name": "python3",
      "display_name": "Python 3"
    },
    "language_info": {
      "name": "python"
    }
  },
  "cells": [
    {
      "cell_type": "markdown",
      "metadata": {
        "id": "view-in-github",
        "colab_type": "text"
      },
      "source": [
        "<a href=\"https://colab.research.google.com/github/ruhidm/PythonExercises/blob/main/HackerRank_9_FindingAverageDIC.ipynb\" target=\"_parent\"><img src=\"https://colab.research.google.com/assets/colab-badge.svg\" alt=\"Open In Colab\"/></a>"
      ]
    },
    {
      "cell_type": "code",
      "metadata": {
        "id": "uwnSBOyRFUst",
        "colab": {
          "base_uri": "https://localhost:8080/"
        },
        "outputId": "431c3e87-2ab4-4d5a-b0e6-721b6efe2da2"
      },
      "source": [
        "# The provided code stub will read in a dictionary containing key/value pairs of name:[marks] for a list of students. Print the average of the marks\n",
        "# array for the student name provided, showing 2 places after the decimal.\n",
        "# Exaample:\n",
        "# Marks key: Value Pairs are:\n",
        "# 'alpha', [20, 30, 50]\n",
        "# 'beta', [23, 45, 48]\n",
        "# query_name = 'beta'\n",
        "# query_name is beta and beta average is (23+45+48)/3\n",
        "# Input Format\n",
        "# The first line contains the integer n, the number of students' records. The next n lines contain the names and marks obtained by a student, each \n",
        "# value separated by a space. The final line contains query_name, the name of a student to query.\n",
        "# COnstraints: 2<= n <= 10, 0 <= marks <= 100, length of mark arrays = 3\n",
        "# Print one line: The average of the marks obtained by the particular student correct to 2 decimal places.\n",
        "\n",
        "\n",
        "n = int(input())\n",
        "student_marks = {}\n",
        "for i in range(n):\n",
        "    name, *line = input().split()\n",
        "    scores = list(map(float, line))\n",
        "    student_marks[name] = scores\n",
        "\n",
        "query_name = input()\n",
        "query_scores = student_marks[query_name]\n",
        "avg = sum(query_scores)/len(query_scores)\n",
        "print('{0:.2f}'. format(avg))"
      ],
      "execution_count": 3,
      "outputs": [
        {
          "output_type": "stream",
          "name": "stdout",
          "text": [
            "3\n",
            "Mike 67 83 90\n",
            "Kane 87 78 64\n",
            "Ruhid 78 73 70\n",
            "Ruhid\n",
            "73.67\n"
          ]
        }
      ]
    }
  ]
}