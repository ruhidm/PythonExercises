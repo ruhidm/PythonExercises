{
 "cells": [
  {
   "cell_type": "markdown",
   "metadata": {},
   "source": [
    "Given an integer, n, perform the following actions.\n",
    "- If n is odd, print `Weird`.\n",
    "- If n is even and inclusive `range` of 2 to 5, print `Not Weird`.\n",
    "- If n is even and inclusive `range` of 6 to 20, print `Weird`.\n",
    "- If n is even and greater than 20, print `Not Weird`\n",
    "\n",
    "Constrains:\n",
    "1=<n=<100"
   ]
  },
  {
   "cell_type": "code",
   "execution_count": 10,
   "metadata": {},
   "outputs": [
    {
     "name": "stdout",
     "output_type": "stream",
     "text": [
      "23\n",
      "Weird\n"
     ]
    }
   ],
   "source": [
    "n = int(input()) #inputing an integer\n",
    "if n % 2 == 1:\n",
    "    print('Weird')\n",
    "elif 2 <= n <= 5:\n",
    "    print('Not Weird')\n",
    "elif 6 <= n <= 20:\n",
    "    print('Weird')\n",
    "else:\n",
    "    print('Not Weird')\n",
    "    "
   ]
  }
 ],
 "metadata": {
  "kernelspec": {
   "display_name": "Python 3",
   "language": "python",
   "name": "python3"
  },
  "language_info": {
   "codemirror_mode": {
    "name": "ipython",
    "version": 3
   },
   "file_extension": ".py",
   "mimetype": "text/x-python",
   "name": "python",
   "nbconvert_exporter": "python",
   "pygments_lexer": "ipython3",
   "version": "3.7.6"
  }
 },
 "nbformat": 4,
 "nbformat_minor": 4
}
